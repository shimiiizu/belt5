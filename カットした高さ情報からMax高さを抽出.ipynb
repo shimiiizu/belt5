{
  "nbformat": 4,
  "nbformat_minor": 0,
  "metadata": {
    "colab": {
      "provenance": [],
      "authorship_tag": "ABX9TyMdSdwjWtRNTKZR9i2BtqII",
      "include_colab_link": true
    },
    "kernelspec": {
      "name": "python3",
      "display_name": "Python 3"
    },
    "language_info": {
      "name": "python"
    }
  },
  "cells": [
    {
      "cell_type": "markdown",
      "metadata": {
        "id": "view-in-github",
        "colab_type": "text"
      },
      "source": [
        "<a href=\"https://colab.research.google.com/github/shimiiizu/belt5/blob/main/%E3%82%AB%E3%83%83%E3%83%88%E3%81%97%E3%81%9F%E9%AB%98%E3%81%95%E6%83%85%E5%A0%B1%E3%81%8B%E3%82%89Max%E9%AB%98%E3%81%95%E3%82%92%E6%8A%BD%E5%87%BA.ipynb\" target=\"_parent\"><img src=\"https://colab.research.google.com/assets/colab-badge.svg\" alt=\"Open In Colab\"/></a>"
      ]
    },
    {
      "cell_type": "code",
      "source": [
        "# カットした画像のファイル名と高さ情報のデータセットを作成する"
      ],
      "metadata": {
        "id": "AVXbkVm8Ld4R"
      },
      "execution_count": null,
      "outputs": []
    },
    {
      "cell_type": "code",
      "execution_count": null,
      "metadata": {
        "id": "Edv6W8jNKvkk"
      },
      "outputs": [],
      "source": [
        "file_list = []\n",
        "height_list = []"
      ]
    },
    {
      "cell_type": "code",
      "source": [
        "import os\n",
        "\n",
        "dir_path = \"./csv\"\n",
        "\n",
        "files = os.listdir(dir_path)\n",
        "print(files)\n",
        "\n",
        "print(type(files))"
      ],
      "metadata": {
        "id": "C1-KFzppPwny"
      },
      "execution_count": null,
      "outputs": []
    },
    {
      "cell_type": "markdown",
      "source": [],
      "metadata": {
        "id": "V4jLJzLhPdUq"
      }
    }
  ]
}